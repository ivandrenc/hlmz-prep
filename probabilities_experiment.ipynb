{
 "cells": [
  {
   "cell_type": "code",
   "execution_count": 1,
   "id": "64c5b4b9-4d92-43e0-8eb8-56d390e4b527",
   "metadata": {},
   "outputs": [],
   "source": [
    "import torch \n",
    "import seaborn as sns\n",
    "from circuitsvis.attention import attention_heads, attention_patterns\n",
    "import matplotlib.pyplot as plt\n",
    "from transformers import AutoModelForCausalLM, AutoTokenizer\n",
    "import pandas as pd\n",
    "import os\n",
    "import time\n",
    "import concurrent.futures\n",
    "import gc\n",
    "import json "
   ]
  },
  {
   "cell_type": "code",
   "execution_count": 2,
   "id": "e6cfde61",
   "metadata": {},
   "outputs": [],
   "source": [
    "# Global settings\n",
    "torch.set_grad_enabled(False) #to disable gradients -> faster computiations\n",
    "# Ensure GPU acceleration is enabled on Mac\n",
    "device = torch.device(\"mps\") if torch.backends.mps.is_available() else torch.device(\"cpu\")\n",
    "mod = None\n",
    "tokenizer = None\n",
    "META_LLAMA_3_2_3B = \"meta-llama/Llama-3.2-3B\"\n",
    "GOOGLE_GEMMA_2_2B = \"google/gemma-2-2b\"\n",
    "dataset = {}\n",
    "CSV_PATH_DATASET = \"dataset/examples.csv\""
   ]
  },
  {
   "cell_type": "code",
   "execution_count": 3,
   "id": "ce387c4a",
   "metadata": {},
   "outputs": [],
   "source": [
    "models = [GOOGLE_GEMMA_2_2B, META_LLAMA_3_2_3B] "
   ]
  },
  {
   "cell_type": "markdown",
   "id": "202a4862",
   "metadata": {},
   "source": [
    "### Functions"
   ]
  },
  {
   "cell_type": "code",
   "execution_count": 4,
   "id": "5f81b639",
   "metadata": {},
   "outputs": [],
   "source": [
    "def initialize_model(model_name: str, tokenizer_name: str = None):\n",
    "    if not tokenizer_name:\n",
    "        tokenizer_name = model_name\n",
    "    # Initialize model and tokenizer\n",
    "    global model\n",
    "    model = AutoModelForCausalLM.from_pretrained(model_name, device_map=\"auto\", torch_dtype=torch.bfloat16)\n",
    "    if not tokenizer_name:\n",
    "        tokenizer_name = model_name\n",
    "    global tokenizer\n",
    "    tokenizer = AutoTokenizer.from_pretrained(tokenizer_name)\n"
   ]
  },
  {
   "cell_type": "code",
   "execution_count": 5,
   "id": "3250539a",
   "metadata": {},
   "outputs": [],
   "source": [
    "def load_dataset(path_to_csv: str):\n",
    "    # Check if the file at the given path exists\n",
    "    if os.path.exists(path_to_csv):\n",
    "        df = pd.read_csv(path_to_csv)\n",
    "    else:\n",
    "        print(\"File does not exist.\")\n",
    "        exit(1)\n",
    "\n",
    "    global dataset \n",
    "    dataset = df\n",
    "    \n",
    "    # Create a new column \"token_probability\" for saving up the probabilites of the studied token for all prompts. Initially, 0.\n",
    "    dataset[\"token_probability_true_sentence\"] = 0\n",
    "    dataset[\"token_probability_false_sentence\"] = 0"
   ]
  },
  {
   "cell_type": "code",
   "execution_count": 6,
   "id": "ddc14479",
   "metadata": {},
   "outputs": [],
   "source": [
    "def print_colored_separator(color=\"\\033[94m\", char=\"=\", length=150, prints_enabled: bool = False):\n",
    "    if prints_enabled:\n",
    "        reset = \"\\033[0m\"  # Reset color\n",
    "        print(f\"{color}{char * length}{reset}\")"
   ]
  },
  {
   "cell_type": "code",
   "execution_count": 7,
   "id": "b66827c2",
   "metadata": {},
   "outputs": [],
   "source": [
    "# Returns the model's output after feeding it with a prompt concatenated prompt_repetitions times and the concatenated prompt tensor\n",
    "def feed_forward(prompt: str, prompt_repetitions: int = 1, prints_enabled: bool = False):\n",
    "    print_colored_separator(prints_enabled)\n",
    "    token_sequence = tokenizer(prompt, return_tensors=\"pt\")\n",
    "    tokens = token_sequence[\"input_ids\"][0]\n",
    "    \n",
    "    sentence_to_concatenate = tokens\n",
    "    for _ in range(prompt_repetitions):\n",
    "        sentence_to_concatenate = torch.concat([sentence_to_concatenate, tokens[1:]])\n",
    "\n",
    "    if prints_enabled:\n",
    "        print(f\"Input: {prompt}\\n\")\n",
    "        print(f\"Tokenizer tokens: {tokens}\\n\")\n",
    "        print(\"Concatenated prompt:\")\n",
    "        print(f\"{tokenizer.decode(sentence_to_concatenate)}\\n\")\n",
    "        print(\"Concatenated tokens:\")\n",
    "        print(f\"{sentence_to_concatenate}\\n\")\n",
    "\n",
    "    # Feed forward to the model\n",
    "    global model\n",
    "    out = model(sentence_to_concatenate.unsqueeze(0).to(model.device), return_dict=True, output_attentions=True)\n",
    "    return out, sentence_to_concatenate"
   ]
  },
  {
   "cell_type": "code",
   "execution_count": 8,
   "id": "645dcb00",
   "metadata": {},
   "outputs": [],
   "source": [
    "def create_attention_mask(token_sequence: str, show_induction_mask: bool = False, prints_enabled: bool = False):\n",
    "    print_colored_separator(prints_enabled)\n",
    "    sequence_length = len(token_sequence)\n",
    "    half_of_sequence = sequence_length // 2 - 1\n",
    "    induction_mask = torch.zeros(sequence_length, sequence_length).to(float)\n",
    "\n",
    "    for i in range(sequence_length // 2 + 1, sequence_length):\n",
    "        induction_mask[i, i - half_of_sequence] = 1 \n",
    "    \n",
    "    if show_induction_mask:\n",
    "        print(\"Induction Mask:\\n\")\n",
    "        print(induction_mask)\n",
    "        print()\n",
    "        print(\"Induction Mask plot:\\n\")\n",
    "        plt.imshow(induction_mask)\n",
    "        plt.show()\n",
    "        print()\n",
    "    return induction_mask"
   ]
  },
  {
   "cell_type": "code",
   "execution_count": 9,
   "id": "ffbdedb0",
   "metadata": {},
   "outputs": [],
   "source": [
    "def compute_induction_head_scores(token_sequence: str, induction_mask: torch.Tensor, model_output):\n",
    "    num_heads = model.config.num_attention_heads\n",
    "    num_layers = model.config.num_hidden_layers\n",
    "    sequence_length = len(token_sequence)\n",
    "\n",
    "    induction_scores = torch.zeros(num_layers, num_heads)\n",
    "    tril = torch.tril_indices(sequence_length - 1, sequence_length - 1) # gets the indices of elements on and below the diagonal\n",
    "    induction_flat = induction_mask[tril[0], tril[1]].flatten()\n",
    "    \n",
    "    for layer in range(num_layers):\n",
    "        for head in range(num_heads):\n",
    "            pattern = model_output[\"attentions\"][layer][0][head].cpu().to(float)[1:, 1:]\n",
    "            pattern_flat = pattern[tril[0], tril[1]].flatten()\n",
    "            score = (induction_flat @ pattern_flat) / pattern_flat.sum()\n",
    "            induction_scores[layer, head] = score\n",
    "    return induction_scores"
   ]
  },
  {
   "cell_type": "code",
   "execution_count": 10,
   "id": "f76d6c80",
   "metadata": {},
   "outputs": [],
   "source": [
    "def create_heatmap(induction_scores: torch.Tensor):\n",
    "    print_colored_separator()\n",
    "    _, ax = plt.subplots()\n",
    "    print(\"Heatmap of induction scores across heads and layers: \\n\")\n",
    "    sns.heatmap(induction_scores, cbar_kws={\"label\": \"Induction Head Score\"}, ax=ax)\n",
    "    ax.set_ylabel(\"Layer #\")\n",
    "    ax.set_xlabel(\"Head #\")\n",
    "    plt.show()"
   ]
  },
  {
   "cell_type": "code",
   "execution_count": 11,
   "id": "06e9893a",
   "metadata": {},
   "outputs": [],
   "source": [
    "def sort_filter_high_scoring_induction_heads(induction_scores: torch.Tensor, model_output: any, filter_by_threshold: float = 0.5, show_induction_heads: bool = False, prints_enabled: bool = False): \n",
    "    print_colored_separator(prints_enabled)\n",
    "    \n",
    "    # Filter induction scores by threshold\n",
    "    mask = induction_scores >= filter_by_threshold\n",
    "\n",
    "    filtered_scores = torch.where(mask, induction_scores, torch.tensor(float('-inf')))\n",
    "\n",
    "    # Get flattened indices sorted by scores in descending order\n",
    "    sorted_flat_indices = torch.argsort(filtered_scores.flatten(), descending=True)\n",
    "\n",
    "    valid_indices = sorted_flat_indices[filtered_scores.flatten()[sorted_flat_indices] != float('-inf')]\n",
    "\n",
    "    # Convert flattened indices to 2D indices\n",
    "    sorted_indices = torch.unravel_index(valid_indices, induction_scores.shape)\n",
    "\n",
    "    # Stack the row and column indices for final output\n",
    "    sorted_indices = torch.stack(sorted_indices, dim=1)\n",
    "\n",
    "    if show_induction_heads:\n",
    "        print(\"Top 5 Induction Heads with the highest induction score - Descending order\\n\")\n",
    "        for layer, head in sorted_indices[:5]:\n",
    "            print(f\"Layer: {layer}\\nHead: {head}\")\n",
    "            plt.imshow(model_output[\"attentions\"][layer][0][head].cpu().float())\n",
    "            plt.show()\n",
    "            print()\n",
    "    return sorted_indices"
   ]
  },
  {
   "cell_type": "code",
   "execution_count": 12,
   "id": "f383db80",
   "metadata": {},
   "outputs": [],
   "source": [
    "def token_probability_extraction(head_indices: torch.Tensor, models_output: any, prints_enabled: bool = False):\n",
    "    data = {}\n",
    "    for idx in head_indices:\n",
    "        print_colored_separator(prints_enabled)\n",
    "        layer, head = idx\n",
    "        probs = models_output[\"attentions\"][layer][0][head]\n",
    "\n",
    "        # Extract probability of the specified token\n",
    "        sequence_length = probs.shape[0]\n",
    "        probability_token = probs[sequence_length - 2, sequence_length // 2].item() * 100\n",
    "        data[f\"L{layer}_H{head}\"] = probability_token\n",
    "\n",
    "        if prints_enabled:\n",
    "            print(f\"Probability of token at layer {layer} and head {head}: \", probability_token)\n",
    "    return json.dumps(data)\n"
   ]
  },
  {
   "cell_type": "code",
   "execution_count": 13,
   "id": "61f17ebc",
   "metadata": {},
   "outputs": [],
   "source": [
    "def save_probability(token_probability: int, example_id: int, column_name_probability: str, prints_enabled: bool = False):\n",
    "    if dataset.empty:\n",
    "        raise Exception(\"Dataset is empty\")\n",
    "    \n",
    "    print_colored_separator(prints_enabled)\n",
    "    # Log the probability of the token into its corresponding row and column in the dataset.\n",
    "    dataset.loc[dataset[\"example_id\"] == example_id, f\"{column_name_probability}\"] = token_probability \n",
    "    if prints_enabled:\n",
    "        print(f\"Saved probability for token from example_id: {example_id}\\n\")"
   ]
  },
  {
   "cell_type": "code",
   "execution_count": 14,
   "id": "acd1ef1a",
   "metadata": {},
   "outputs": [],
   "source": [
    "def display_attention_visualizations(head_indices: torch.Tensor, token_sequence: torch.Tensor, models_output):\n",
    "    # Display attention diagrams\n",
    "    tokens_vis = tokenizer.tokenize(tokenizer.decode(token_sequence.squeeze()))\n",
    "    layer, head = head_indices[0]\n",
    "    return attention_patterns(tokens_vis, models_output[\"attentions\"][layer][0]), attention_heads(models_output[\"attentions\"][layer][0], tokens_vis)"
   ]
  },
  {
   "cell_type": "code",
   "execution_count": 15,
   "id": "9c0d07b2",
   "metadata": {},
   "outputs": [],
   "source": [
    "def run_experiment(prompt: str, prompt_repetitions: int = 1, filter_by_threshold: float = 0.5):\n",
    "    models_output, token_sequence = feed_forward(prompt=prompt, prompt_repetitions=prompt_repetitions)\n",
    "    induction_mask = create_attention_mask(token_sequence=token_sequence)\n",
    "    induction_scores = compute_induction_head_scores(token_sequence=token_sequence, induction_mask=induction_mask, model_output=models_output)\n",
    "\n",
    "    # create_heatmap(induction_scores=induction_scores)\n",
    "    \n",
    "    # Get induction heads indices after filtering by a threshold and sort them descending from top scoring head\n",
    "    indices_induction_heads = sort_filter_high_scoring_induction_heads(induction_scores=induction_scores, model_output=models_output, filter_by_threshold=filter_by_threshold)\n",
    "\n",
    "    # Extract the probability of the studied token for each head and layer. Store it in json format  \n",
    "    token_probabilities_layer_head = token_probability_extraction(indices_induction_heads, models_output)\n",
    "\n",
    "    return token_probabilities_layer_head\n"
   ]
  },
  {
   "cell_type": "code",
   "execution_count": 16,
   "id": "c7e6801f",
   "metadata": {},
   "outputs": [],
   "source": [
    "def save_plot_results(save_path: str):\n",
    "    # Get the list of heads\n",
    "    head_sets_true_sentences = dataset[\"token_probability_true_sentence\"].apply(json.loads)\n",
    "    head_sets_true = head_sets_true_sentences.apply(lambda d: set(d.keys()))\n",
    "\n",
    "    head_sets_false_sentences = dataset[\"token_probability_false_sentence\"].apply(json.loads)\n",
    "    head_sets_false = head_sets_false_sentences.apply(lambda d: set(d.keys()))\n",
    "\n",
    "    # Calculate the intersection\n",
    "    common_heads_true = set.intersection(*head_sets_true)\n",
    "    common_heads_false = set.intersection(*head_sets_false)\n",
    "\n",
    "    # Intersection of the heads which appear in the true && false sentence\n",
    "    total_intersection_set = set.intersection(common_heads_true, common_heads_false)\n",
    "\n",
    "    data = []\n",
    "    for _, row in dataset.iterrows():\n",
    "        for head in total_intersection_set:\n",
    "            data.append({\"Head\": head, \"Probability\": json.loads(row[\"token_probability_true_sentence\"])[head], \"Type\": \"True\"})\n",
    "            data.append({\"Head\": head, \"Probability\": json.loads(row[\"token_probability_false_sentence\"])[head], \"Type\": \"False\"})\n",
    "\n",
    "    plot_df = pd.DataFrame(data=data)\n",
    "    ax = sns.boxplot(data=plot_df, x=\"Head\", y=\"Probability\", hue=\"Type\")\n",
    "    ax.get_figure().savefig(f\"{save_path}-results-plot.png\", dpi=300)\n"
   ]
  },
  {
   "cell_type": "code",
   "execution_count": 17,
   "id": "4045f3ca",
   "metadata": {},
   "outputs": [],
   "source": [
    "def save_result_csv(model_name: str, dataset_csv_file_path: str, dataset):\n",
    "    model_name_folder = model_name.split(\"/\")\n",
    "    folder_path = os.path.dirname(dataset_csv_file_path) + \"/\" + model_name_folder[0] \n",
    "    if not os.path.exists(folder_path):\n",
    "        os.mkdir(folder_path)\n",
    "    model_and_path = f\"{model_name_folder[-1]}-results.csv\"\n",
    "    new_file_path = os.path.join(folder_path, model_and_path)\n",
    "    dataset.to_csv(new_file_path, index=False)\n",
    "\n",
    "    # Save plot for the current dataset \n",
    "    model_and_path_image = os.path.join(folder_path, model_name_folder[-1])\n",
    "    save_plot_results(save_path=model_and_path_image)"
   ]
  },
  {
   "cell_type": "code",
   "execution_count": 18,
   "id": "054eec63",
   "metadata": {},
   "outputs": [],
   "source": [
    "def delete_model():\n",
    "    global model\n",
    "    del model\n",
    "    gc.collect()\n",
    "    if torch.backends.mps.is_available():\n",
    "        torch.mps.empty_cache()  # Clear MPS GPU memory\n",
    "    \n"
   ]
  },
  {
   "cell_type": "code",
   "execution_count": 19,
   "id": "95b22b21",
   "metadata": {},
   "outputs": [],
   "source": [
    "def run_experiment_suite(dataset_csv_file_path: str, llm_models: list, prompt_repetitions: int = 1, filter_by_threshold: int = 0.5):\n",
    "    for mod in llm_models: \n",
    "        print(f\"Using device: {torch.device('mps') if torch.backends.mps.is_available() else 'cpu'}\")\n",
    "        initialize_model(model_name=mod, tokenizer_name=mod)\n",
    "        load_dataset(path_to_csv=dataset_csv_file_path)\n",
    "        \n",
    "        # Use ThreadPoolExecutor since multiprocessing won't work well with Metal\n",
    "        with concurrent.futures.ThreadPoolExecutor(max_workers=2) as executor:\n",
    "            future_true = executor.submit(\n",
    "                lambda: dataset.apply(lambda row: run_experiment(row[\"true_sentence\"], prompt_repetitions=prompt_repetitions, filter_by_threshold=filter_by_threshold), axis=1)\n",
    "            )\n",
    "            future_false = executor.submit(\n",
    "                lambda: dataset.apply(lambda row: run_experiment(row[\"false_sentence\"], prompt_repetitions=prompt_repetitions, filter_by_threshold=filter_by_threshold), axis=1)\n",
    "            )\n",
    "\n",
    "            # Collect results\n",
    "            dataset[\"token_probability_true_sentence\"] = future_true.result()\n",
    "            dataset[\"token_probability_false_sentence\"] = future_false.result()\n",
    "\n",
    "        # Create CSV result files saved in folders respective to the used LLM.\n",
    "        save_result_csv(model_name=mod, dataset_csv_file_path=dataset_csv_file_path, dataset=dataset) \n",
    "\n",
    "        # Delete the model loaded in memory\n",
    "        delete_model()\n"
   ]
  },
  {
   "cell_type": "markdown",
   "id": "15ef3f7f",
   "metadata": {},
   "source": [
    "### Experiment Start"
   ]
  },
  {
   "cell_type": "code",
   "execution_count": 20,
   "id": "23719aeb",
   "metadata": {},
   "outputs": [
    {
     "name": "stdout",
     "output_type": "stream",
     "text": [
      "Your current working directory: /Users/ivannaranjo/Documents/Helmholtz/experiments/hlmz-prep\n",
      "Using device: mps\n"
     ]
    },
    {
     "data": {
      "application/vnd.jupyter.widget-view+json": {
       "model_id": "102dd2e14d9f4d5994ec3931a2f02cb1",
       "version_major": 2,
       "version_minor": 0
      },
      "text/plain": [
       "Loading checkpoint shards:   0%|          | 0/3 [00:00<?, ?it/s]"
      ]
     },
     "metadata": {},
     "output_type": "display_data"
    },
    {
     "name": "stderr",
     "output_type": "stream",
     "text": [
      "Starting from v4.46, the `logits` model output will have the same type as the model (except at train time, where it will always be FP32)\n"
     ]
    },
    {
     "name": "stdout",
     "output_type": "stream",
     "text": [
      "Using device: mps\n"
     ]
    },
    {
     "data": {
      "application/vnd.jupyter.widget-view+json": {
       "model_id": "d28209c8bbf043d7a4d99a0bcce87218",
       "version_major": 2,
       "version_minor": 0
      },
      "text/plain": [
       "Loading checkpoint shards:   0%|          | 0/2 [00:00<?, ?it/s]"
      ]
     },
     "metadata": {},
     "output_type": "display_data"
    },
    {
     "name": "stderr",
     "output_type": "stream",
     "text": [
      "LlamaModel is using LlamaSdpaAttention, but `torch.nn.functional.scaled_dot_product_attention` does not support `output_attentions=True`. Falling back to the manual attention implementation, but specifying the manual implementation will be required from Transformers version v5.0.0 onwards. This warning can be removed using the argument `attn_implementation=\"eager\"` when loading the model.\n",
      "LlamaModel is using LlamaSdpaAttention, but `torch.nn.functional.scaled_dot_product_attention` does not support `output_attentions=True`. Falling back to the manual attention implementation, but specifying the manual implementation will be required from Transformers version v5.0.0 onwards. This warning can be removed using the argument `attn_implementation=\"eager\"` when loading the model.\n",
      "Starting from v4.46, the `logits` model output will have the same type as the model (except at train time, where it will always be FP32)\n",
      "Starting from v4.46, the `logits` model output will have the same type as the model (except at train time, where it will always be FP32)\n"
     ]
    },
    {
     "name": "stdout",
     "output_type": "stream",
     "text": [
      "Execution Time: 25.2136 seconds.\n"
     ]
    },
    {
     "data": {
      "image/png": "[encoded data removed]",
      "text/plain": [
       "<Figure size 640x480 with 1 Axes>"
      ]
     },
     "metadata": {},
     "output_type": "display_data"
    }
   ],
   "source": [
    "print(\"Your current working directory:\", os.getcwd())\n",
    "start_time = time.perf_counter()\n",
    "run_experiment_suite(dataset_csv_file_path=CSV_PATH_DATASET, llm_models=models, prompt_repetitions=1, filter_by_threshold=0.5)\n",
    "end_time = time.perf_counter()\n",
    "elapsed_time = end_time - start_time\n",
    "print(f\"Execution Time: {elapsed_time:.4f} seconds.\")"
   ]
  }
 ],
 "metadata": {
  "kernelspec": {
   "display_name": "Python 3 (ipykernel)",
   "language": "python",
   "name": "python3"
  },
  "language_info": {
   "codemirror_mode": {
    "name": "ipython",
    "version": 3
   },
   "file_extension": ".py",
   "mimetype": "text/x-python",
   "name": "python",
   "nbconvert_exporter": "python",
   "pygments_lexer": "ipython3",
   "version": "3.10.15"
  }
 },
 "nbformat": 4,
 "nbformat_minor": 5
}
