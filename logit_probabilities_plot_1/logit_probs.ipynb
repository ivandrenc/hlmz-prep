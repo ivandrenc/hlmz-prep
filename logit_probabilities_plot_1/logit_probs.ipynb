{
 "cells": [
  {
   "cell_type": "code",
   "execution_count": 1,
   "metadata": {},
   "outputs": [],
   "source": [
    "from nnsight import LanguageModel\n",
    "import torch\n",
    "import os\n",
    "import pandas as pd\n",
    "import numpy as np\n",
    "import seaborn as sns\n",
    "import matplotlib.pyplot as plt\n",
    "import torch.nn.functional as F"
   ]
  },
  {
   "cell_type": "code",
   "execution_count": 2,
   "metadata": {},
   "outputs": [
    {
     "data": {
      "text/plain": [
       "<torch.autograd.grad_mode.set_grad_enabled at 0x325bf49d0>"
      ]
     },
     "execution_count": 2,
     "metadata": {},
     "output_type": "execute_result"
    }
   ],
   "source": [
    "torch.set_grad_enabled(False)"
   ]
  },
  {
   "cell_type": "code",
   "execution_count": 3,
   "metadata": {},
   "outputs": [],
   "source": [
    "MODELS = [\"Qwen/Qwen2.5-3B\", \"meta-llama/Llama-3.2-1B\", \"meta-llama/Llama-3.2-3B\", \"google/gemma-2-2b\", \"meta-llama/Llama-3.2-1B-Instruct\"]\n",
    "\n",
    "llm = LanguageModel(MODELS[3], device_map=\"auto\", torch_dtype=torch.bfloat16)"
   ]
  },
  {
   "cell_type": "code",
   "execution_count": 4,
   "metadata": {},
   "outputs": [
    {
     "name": "stdout",
     "output_type": "stream",
     "text": [
      "/Users/ivannaranjo/Documents/Helmholtz/experiments/hlmz-prep/logit_probabilities_plot_1\n"
     ]
    }
   ],
   "source": [
    "# Load the dataset\n",
    "print(os.getcwd())\n",
    "df = pd.read_csv(os.path.join(os.getcwd(), \"sentences.csv\"))"
   ]
  },
  {
   "cell_type": "code",
   "execution_count": 5,
   "metadata": {},
   "outputs": [
    {
     "name": "stdout",
     "output_type": "stream",
     "text": [
      "answer_token_indices:  [[7127, 12514]]\n",
      "answers:  [(' Paris', ' Berlin')]\n",
      "prompt_correct:  The capital of France is Paris.\n",
      "The capital of France is Berlin.\n",
      "Now I will give the correct answer.\n",
      "The capital of France is\n",
      "prompt_incorrect:  The capital of France is Paris.\n",
      "The capital of France is Berlin.\n",
      "Now I will give the incorrect answer.\n",
      "The capital of France is\n"
     ]
    },
    {
     "name": "stderr",
     "output_type": "stream",
     "text": [
      "huggingface/tokenizers: The current process just got forked, after parallelism has already been used. Disabling parallelism to avoid deadlocks...\n",
      "To disable this warning, you can either:\n",
      "\t- Avoid using `tokenizers` before the fork if possible\n",
      "\t- Explicitly set the environment variable TOKENIZERS_PARALLELISM=(true | false)\n"
     ]
    },
    {
     "data": {
      "application/vnd.jupyter.widget-view+json": {
       "model_id": "4c92303a6cb641b3bbfa163f06af46b5",
       "version_major": 2,
       "version_minor": 0
      },
      "text/plain": [
       "Loading checkpoint shards:   0%|          | 0/3 [00:00<?, ?it/s]"
      ]
     },
     "metadata": {},
     "output_type": "display_data"
    },
    {
     "name": "stderr",
     "output_type": "stream",
     "text": [
      "Starting from v4.46, the `logits` model output will have the same type as the model (except at train time, where it will always be FP32)\n"
     ]
    },
    {
     "name": "stdout",
     "output_type": "stream",
     "text": [
      "correct token prob (correct prompt):  1.0\n",
      "incorrect token prob (correct prompt):  5.817413330078125e-05\n",
      "correct token prob (incorrect prompt):  0.99609375\n",
      "incorrect token prob (incorrect prompt):  0.005218505859375\n",
      "answer_token_indices:  [[7127, 12514]]\n",
      "answers:  [(' Paris', ' Berlin')]\n",
      "prompt_correct:  The capital of France is Berlin.\n",
      "The capital of France is Paris.\n",
      "Now I will give the correct answer.\n",
      "The capital of France is\n",
      "prompt_incorrect:  The capital of France is Berlin.\n",
      "The capital of France is Paris.\n",
      "Now I will give the incorrect answer.\n",
      "The capital of France is\n",
      "correct token prob (correct prompt):  1.0\n",
      "incorrect token prob (correct prompt):  1.6689300537109375e-05\n",
      "correct token prob (incorrect prompt):  0.9921875\n",
      "incorrect token prob (incorrect prompt):  0.006683349609375\n",
      "answer_token_indices:  [[42618, 42458]]\n",
      "answers:  [(' Mercury', ' Venus')]\n",
      "prompt_correct:  The planet closest to the Sun is Mercury.\n",
      "The planet closest to the Sun is Venus.\n",
      "Now I will give the correct answer.\n",
      "The planet closest to the Sun is\n",
      "prompt_incorrect:  The planet closest to the Sun is Mercury.\n",
      "The planet closest to the Sun is Venus.\n",
      "Now I will give the incorrect answer.\n",
      "The planet closest to the Sun is\n",
      "correct token prob (correct prompt):  0.984375\n",
      "incorrect token prob (correct prompt):  0.0140380859375\n",
      "correct token prob (incorrect prompt):  0.9453125\n",
      "incorrect token prob (incorrect prompt):  0.022216796875\n",
      "answer_token_indices:  [[42618, 42458]]\n",
      "answers:  [(' Mercury', ' Venus')]\n",
      "prompt_correct:  The planet closest to the Sun is Venus.\n",
      "The planet closest to the Sun is Mercury.\n",
      "Now I will give the correct answer.\n",
      "The planet closest to the Sun is\n",
      "prompt_incorrect:  The planet closest to the Sun is Venus.\n",
      "The planet closest to the Sun is Mercury.\n",
      "Now I will give the incorrect answer.\n",
      "The planet closest to the Sun is\n",
      "correct token prob (correct prompt):  0.984375\n",
      "incorrect token prob (correct prompt):  0.0140380859375\n",
      "correct token prob (incorrect prompt):  0.86328125\n",
      "incorrect token prob (incorrect prompt):  0.1171875\n"
     ]
    }
   ],
   "source": [
    "results = {\"prompt_correct\": {\"correct_token_prob\": [], \"incorrect_token_prob\": []}, \"prompt_incorrect\": {\"correct_token_prob\": [], \"incorrect_token_prob\": []}}\n",
    "for i in range(len(df)):\n",
    "    # Define the answers to these prompts, formatted as (correct, incorrect)\n",
    "    answers = [\n",
    "        (df.iloc[i][\"answer_sentence1\"], df.iloc[i][\"answer_sentence2\"]),\n",
    "    ]\n",
    "\n",
    "    answer_token_indices = [\n",
    "        [llm.tokenizer.encode(answers[i][j])[1] for j in range(2)]\n",
    "        for i in range(len(answers))\n",
    "    ]\n",
    "    print(\"answer_token_indices: \", answer_token_indices)\n",
    "    print(\"answers: \", answers)\n",
    "    \n",
    "    s1 = df.iloc[i][\"sentence1\"]\n",
    "    s2 = df.iloc[i][\"sentence2\"]\n",
    "    last_sentence = df.iloc[i][\"last_sentence\"]\n",
    "    prompt_correct = f\"{s1}\\n{s2}\\nNow I will give the correct answer.\\n{last_sentence}\"\n",
    "    prompt_incorrect = f\"{s1}\\n{s2}\\nNow I will give the incorrect answer.\\n{last_sentence}\"\n",
    "    print(\"prompt_correct: \", prompt_correct)\n",
    "    print(\"prompt_incorrect: \", prompt_incorrect)\n",
    "    with llm.trace(prompt_correct): \n",
    "        output = llm.lm_head.output\n",
    "        logits = output[0, -1]  # Get logits for last position\n",
    "        probabilities = F.softmax(logits, dim=-1)  # Apply softmax to get probabilities\n",
    "        \n",
    "        # Get probabilities for specific tokens\n",
    "        correct_token_prob = probabilities[answer_token_indices[0][0]].item().save()\n",
    "        incorrect_token_prob = probabilities[answer_token_indices[0][1]].item().save()\n",
    "        \n",
    "        # Store results\n",
    "        results[\"prompt_correct\"][\"correct_token_prob\"].append(correct_token_prob)\n",
    "        results[\"prompt_correct\"][\"incorrect_token_prob\"].append(incorrect_token_prob)\n",
    "    print(\"correct token prob (correct prompt): \", correct_token_prob)\n",
    "    print(\"incorrect token prob (correct prompt): \", incorrect_token_prob)\n",
    "    \n",
    "    with llm.trace(prompt_incorrect):\n",
    "        output = llm.lm_head.output\n",
    "        logits = output[0, -1]  # Get logits for last position\n",
    "        probabilities = F.softmax(logits, dim=-1)  # Apply softmax to get probabilities\n",
    "        \n",
    "        # Get probabilities for specific tokens\n",
    "        correct_token_prob = probabilities[answer_token_indices[0][0]].item().save()\n",
    "        incorrect_token_prob = probabilities[answer_token_indices[0][1]].item().save()\n",
    "        \n",
    "        # Store results\n",
    "        results[\"prompt_incorrect\"][\"correct_token_prob\"].append(correct_token_prob)\n",
    "        results[\"prompt_incorrect\"][\"incorrect_token_prob\"].append(incorrect_token_prob)\n",
    "    print(\"correct token prob (incorrect prompt): \", correct_token_prob)\n",
    "    print(\"incorrect token prob (incorrect prompt): \", incorrect_token_prob)\n"
   ]
  },
  {
   "cell_type": "code",
   "execution_count": 7,
   "metadata": {},
   "outputs": [
    {
     "data": {
      "image/png": "[encoded data removed]",
      "text/plain": [
       "<Figure size 1000x800 with 1 Axes>"
      ]
     },
     "metadata": {},
     "output_type": "display_data"
    }
   ],
   "source": [
    "# Prepare data with all individual probabilities\n",
    "data = []\n",
    "for prompt_type in [\"prompt_correct\", \"prompt_incorrect\"]:\n",
    "    for idx, (correct_prob, incorrect_prob) in enumerate(zip(\n",
    "        [val.value for val in results[prompt_type][\"correct_token_prob\"]], \n",
    "        [val.value for val in results[prompt_type][\"incorrect_token_prob\"]]\n",
    "    )):\n",
    "        data.append({\n",
    "            \"Prompt\": prompt_type,\n",
    "            \"Probability Type\": \"correct_token_prob\",\n",
    "            \"Probability\": correct_prob\n",
    "        })\n",
    "        data.append({\n",
    "            \"Prompt\": prompt_type,\n",
    "            \"Probability Type\": \"incorrect_token_prob\",\n",
    "            \"Probability\": incorrect_prob\n",
    "        })\n",
    "\n",
    "df_plot = pd.DataFrame(data)\n",
    "\n",
    "# Create the bar plot with error bars\n",
    "plt.figure(figsize=(10, 8))  # Increased figure size for more space\n",
    "# Set font sizes larger\n",
    "plt.rcParams.update({'font.size': 14})  # Increase base font size\n",
    "\n",
    "ax = sns.barplot(\n",
    "    x=\"Prompt\",\n",
    "    y=\"Probability\",\n",
    "    hue=\"Probability Type\",\n",
    "    data=df_plot,\n",
    "    errorbar=None,  # 95% confidence interval (default)\n",
    "    capsize=0.1     # Add caps to error bars for better visibility\n",
    ")\n",
    "\n",
    "ax.spines[['right', 'top']].set_visible(False)\n",
    "\n",
    "# Increase tick label font sizes\n",
    "ax.tick_params(axis='both', labelsize=14)\n",
    "\n",
    "sns.stripplot(\n",
    "    x=\"Prompt\",\n",
    "    y=\"Probability\",\n",
    "    dodge=True,\n",
    "    hue=\"Probability Type\",\n",
    "    data=df_plot,\n",
    "    alpha=0.5,\n",
    "    zorder=1,\n",
    "    ax=ax,\n",
    "    palette=[\"k\", \"k\"],\n",
    "    legend=False,\n",
    ")\n",
    "\n",
    "plt.ylabel('Next Token Probability', fontsize=16)  # Larger y-axis label\n",
    "plt.xlabel(\"\", fontsize=15)  # Larger x-axis label\n",
    "locs, labels = plt.xticks()\n",
    "plt.xticks(locs, [\"...Now I will give the correct answer...\", \"...Now I will give the incorrect answer...\"], fontsize=12)\n",
    "plt.ylim(0, 1)  # Probabilities range from 0 to 1\n",
    "\n",
    "# Get the handles and labels from the plot to ensure correct color matching\n",
    "handles, _ = ax.get_legend_handles_labels()\n",
    "plt.legend(\n",
    "    handles=handles,\n",
    "    labels=[\"Correct Token\", \"Incorrect Token\"],\n",
    "    loc=\"upper center\",  # Changed to upper center\n",
    "    bbox_to_anchor=(0.5, 1.15),  # Moved legend higher above the plot\n",
    "    ncol=2,\n",
    "    frameon=False,\n",
    "    fontsize=16  # Larger legend font size\n",
    ")\n",
    "plt.tight_layout()\n",
    "plt.savefig(\"behavioral_plot.pdf\", format='pdf', dpi=300, bbox_inches='tight')\n",
    "plt.show()"
   ]
  },
  {
   "cell_type": "code",
   "execution_count": null,
   "metadata": {},
   "outputs": [],
   "source": []
  }
 ],
 "metadata": {
  "kernelspec": {
   "display_name": "helmholtz",
   "language": "python",
   "name": "python3"
  },
  "language_info": {
   "codemirror_mode": {
    "name": "ipython",
    "version": 3
   },
   "file_extension": ".py",
   "mimetype": "text/x-python",
   "name": "python",
   "nbconvert_exporter": "python",
   "pygments_lexer": "ipython3",
   "version": "3.10.15"
  }
 },
 "nbformat": 4,
 "nbformat_minor": 2
}
