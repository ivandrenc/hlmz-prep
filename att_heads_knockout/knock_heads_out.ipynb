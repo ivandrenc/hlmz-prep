{
 "cells": [
  {
   "cell_type": "code",
   "metadata": {
    "ExecuteTime": {
     "end_time": "2025-03-07T09:31:09.689029Z",
     "start_time": "2025-03-07T09:31:09.685832Z"
    }
   },
   "source": [
    "import torch\n",
    "from transformers import AutoModelForCausalLM, AutoTokenizer\n",
    "import matplotlib.pyplot as plt\n",
    "\n",
    "\n",
    "_ = torch.set_grad_enabled(False)"
   ],
   "outputs": [],
   "execution_count": 153
  },
  {
   "cell_type": "code",
   "metadata": {
    "ExecuteTime": {
     "end_time": "2025-03-07T09:31:35.950455Z",
     "start_time": "2025-03-07T09:31:09.973101Z"
    }
   },
   "source": [
    "model_name = \"meta-llama/Llama-3.2-1B\"\n",
    "model = AutoModelForCausalLM.from_pretrained(model_name, device_map=\"auto\", torch_dtype=torch.bfloat16)\n",
    "tokenizer = AutoTokenizer.from_pretrained(model_name)"
   ],
   "outputs": [],
   "execution_count": 154
  },
  {
   "cell_type": "markdown",
   "metadata": {},
   "source": [
    "Below is the function that sets the relevant weights from the Q matrix to 0.\n",
    "\n",
    "Something to be aware of is that it modifies the weights in place, so once you run this function, the weights will be changed.\n",
    "\n",
    "To recover the original weights, you will need to restart a session and load the model again."
   ]
  },
  {
   "cell_type": "code",
   "metadata": {
    "ExecuteTime": {
     "end_time": "2025-03-07T09:31:36.236195Z",
     "start_time": "2025-03-07T09:31:36.233530Z"
    }
   },
   "source": [
    "def knock_out_attention_head(model, layer_idx, head_idx):\n",
    "\n",
    "    # note that this function modifies the model in place and does not return anything\n",
    "    # the changes you make are not recoverable, so you may want to reload the model to undo them\n",
    "\n",
    "    layer = model.model.layers[layer_idx] # get the layer of interest\n",
    "    attn = layer.self_attn # get the head of interest\n",
    "\n",
    "    # q projection dimension is [hidden_size, hidden_size]\n",
    "    hidden_size = attn.q_proj.weight.shape[0]\n",
    "    num_heads = attn.num_heads  # how many heads does the layer have?\n",
    "    head_dim = hidden_size // num_heads # how large is a given head?\n",
    "\n",
    "    # Compute the slice corresponding to the head.\n",
    "    start = head_idx * head_dim\n",
    "    end = (head_idx + 1) * head_dim\n",
    "\n",
    "    attn.q_proj.weight[start:end, :] = 0\n",
    "    attn.v_proj.weight[start:end, :] = 0\n",
    "    \n",
    "    "
   ],
   "outputs": [],
   "execution_count": 155
  },
  {
   "cell_type": "code",
   "metadata": {
    "ExecuteTime": {
     "end_time": "2025-03-07T09:31:36.256521Z",
     "start_time": "2025-03-07T09:31:36.254213Z"
    }
   },
   "source": [
    "model.model.layers[10].self_attn"
   ],
   "outputs": [
    {
     "data": {
      "text/plain": [
       "Linear(in_features=2048, out_features=2048, bias=False)"
      ]
     },
     "execution_count": 156,
     "metadata": {},
     "output_type": "execute_result"
    }
   ],
   "execution_count": 156
  },
  {
   "cell_type": "markdown",
   "metadata": {},
   "source": [
    "Let's pick a head we want to knock out."
   ]
  },
  {
   "cell_type": "code",
   "metadata": {
    "ExecuteTime": {
     "end_time": "2025-03-07T09:31:36.504257Z",
     "start_time": "2025-03-07T09:31:36.502465Z"
    }
   },
   "source": [
    "knockout_layer, knockout_head = 10, 23"
   ],
   "outputs": [],
   "execution_count": 157
  },
  {
   "cell_type": "code",
   "metadata": {
    "ExecuteTime": {
     "end_time": "2025-03-07T09:31:36.747726Z",
     "start_time": "2025-03-07T09:31:36.745794Z"
    }
   },
   "source": [
    "total_hidden, total_head = model.config.num_hidden_layers, model.config.num_attention_heads\n",
    "print(\"layers\", total_head)\n",
    "print(\"heads\", total_hidden)"
   ],
   "outputs": [
    {
     "name": "stdout",
     "output_type": "stream",
     "text": [
      "layers 32\n",
      "heads 16\n"
     ]
    }
   ],
   "execution_count": 158
  },
  {
   "cell_type": "code",
   "metadata": {
    "ExecuteTime": {
     "end_time": "2025-03-07T09:31:36.981708Z",
     "start_time": "2025-03-07T09:31:36.976312Z"
    }
   },
   "source": [
    "prompt = \" I love lasagna. I love lasagna. I love\"\n",
    "model_input = tokenizer(prompt, return_tensors=\"pt\").to(model.device)"
   ],
   "outputs": [],
   "execution_count": 159
  },
  {
   "cell_type": "markdown",
   "metadata": {},
   "source": [
    "First let's get the original attention outputs before we knock the head out."
   ]
  },
  {
   "cell_type": "code",
   "metadata": {
    "ExecuteTime": {
     "end_time": "2025-03-07T09:31:37.474667Z",
     "start_time": "2025-03-07T09:31:37.186154Z"
    }
   },
   "source": [
    "original_attentions = model(**model_input, return_dict=True, output_attentions=True)[\"attentions\"]"
   ],
   "outputs": [],
   "execution_count": 160
  },
  {
   "cell_type": "code",
   "metadata": {
    "ExecuteTime": {
     "end_time": "2025-03-07T09:31:40.070Z",
     "start_time": "2025-03-07T09:31:40.067652Z"
    }
   },
   "source": [
    "original_attentions[0].shape"
   ],
   "outputs": [
    {
     "data": {
      "text/plain": [
       "torch.Size([1, 32, 13, 13])"
      ]
     },
     "execution_count": 161,
     "metadata": {},
     "output_type": "execute_result"
    }
   ],
   "execution_count": 161
  },
  {
   "cell_type": "markdown",
   "metadata": {},
   "source": [
    "Set the relevant weights to zero."
   ]
  },
  {
   "cell_type": "code",
   "metadata": {
    "ExecuteTime": {
     "end_time": "2025-03-07T09:31:40.284360Z",
     "start_time": "2025-03-07T09:31:40.281073Z"
    }
   },
   "source": [
    "knock_out_attention_head(model, knockout_layer, knockout_head)"
   ],
   "outputs": [],
   "execution_count": 162
  },
  {
   "cell_type": "markdown",
   "metadata": {},
   "source": [
    "Now run the model again with the knocked out head."
   ]
  },
  {
   "cell_type": "code",
   "metadata": {
    "ExecuteTime": {
     "end_time": "2025-03-07T09:31:40.568727Z",
     "start_time": "2025-03-07T09:31:40.534853Z"
    }
   },
   "source": [
    "knocked_out_attentions = model(**model_input, return_dict=True, output_attentions=True)[\"attentions\"]"
   ],
   "outputs": [],
   "execution_count": 163
  },
  {
   "cell_type": "markdown",
   "metadata": {},
   "source": [
    "You can see below how the two heads are different.\n",
    "\n",
    "The one on the left is an induction head. The one on the right is what happens when we set the Q weights to 0.\n",
    "\n",
    "In the second matrix, all entries are not 0 but rather the entries in the same row (after the causal mask) are set to 0.\n",
    "\n",
    "This means that attention from this head will be evenly distributed to all tokens in the sequence."
   ]
  },
  {
   "cell_type": "code",
   "metadata": {
    "ExecuteTime": {
     "end_time": "2025-03-07T09:31:40.906528Z",
     "start_time": "2025-03-07T09:31:40.814776Z"
    }
   },
   "source": [
    "fig, axs = plt.subplots(1, 2, figsize=(10, 5))\n",
    "\n",
    "axs[0].imshow(original_attentions[knockout_layer][0][knockout_head].to(\"cpu\").to(float))\n",
    "axs[0].set_title(\"Original Attention\")\n",
    "\n",
    "axs[1].imshow(knocked_out_attentions[knockout_layer][0][knockout_head].to(\"cpu\").to(float))\n",
    "axs[1].set_title(\"Knocked Out Attention\")\n",
    "plt.show()"
   ],
   "outputs": [
    {
     "data": {
      "text/plain": [
       "<Figure size 1000x500 with 2 Axes>"
      ],
      "image/png": "[encoded data removed]"
     },
     "metadata": {},
     "output_type": "display_data"
    }
   ],
   "execution_count": 164
  },
  {
   "cell_type": "markdown",
   "metadata": {},
   "source": [
    "We also make sure that the other heads from the same layer are unchanged."
   ]
  },
  {
   "cell_type": "code",
   "metadata": {
    "ExecuteTime": {
     "end_time": "2025-03-07T09:31:41.135101Z",
     "start_time": "2025-03-07T09:31:41.124531Z"
    }
   },
   "source": [
    "for head in range(total_head):\n",
    "    if head == knockout_head:\n",
    "        continue\n",
    "    original_attention = original_attentions[knockout_layer][0][head].to(\"cpu\").to(float)\n",
    "    knocked_out_attention = knocked_out_attentions[knockout_layer][0][head].to(\"cpu\").to(float)\n",
    "\n",
    "    assert torch.allclose(original_attention, knocked_out_attention), f\"Layer {knockout_layer}, Head {head} is not equal\""
   ],
   "outputs": [],
   "execution_count": 165
  },
  {
   "cell_type": "code",
   "metadata": {
    "ExecuteTime": {
     "end_time": "2025-03-07T09:31:41.406590Z",
     "start_time": "2025-03-07T09:31:41.374015Z"
    }
   },
   "source": [
    "print(tokenizer.decode(model.generate(model_input, max_length=50, do_sample=True, pad_token_id=tokenizer.eos_token_id)[0]))"
   ],
   "outputs": [
    {
     "ename": "AttributeError",
     "evalue": "",
     "output_type": "error",
     "traceback": [
      "\u001B[0;31m---------------------------------------------------------------------------\u001B[0m",
      "\u001B[0;31mKeyError\u001B[0m                                  Traceback (most recent call last)",
      "File \u001B[0;32m/opt/miniconda3/envs/helmholtz/lib/python3.10/site-packages/transformers/tokenization_utils_base.py:283\u001B[0m, in \u001B[0;36mBatchEncoding.__getattr__\u001B[0;34m(self, item)\u001B[0m\n\u001B[1;32m    282\u001B[0m \u001B[38;5;28;01mtry\u001B[39;00m:\n\u001B[0;32m--> 283\u001B[0m     \u001B[38;5;28;01mreturn\u001B[39;00m \u001B[38;5;28;43mself\u001B[39;49m\u001B[38;5;241;43m.\u001B[39;49m\u001B[43mdata\u001B[49m\u001B[43m[\u001B[49m\u001B[43mitem\u001B[49m\u001B[43m]\u001B[49m\n\u001B[1;32m    284\u001B[0m \u001B[38;5;28;01mexcept\u001B[39;00m \u001B[38;5;167;01mKeyError\u001B[39;00m:\n",
      "\u001B[0;31mKeyError\u001B[0m: 'shape'",
      "\nDuring handling of the above exception, another exception occurred:\n",
      "\u001B[0;31mAttributeError\u001B[0m                            Traceback (most recent call last)",
      "Cell \u001B[0;32mIn[166], line 1\u001B[0m\n\u001B[0;32m----> 1\u001B[0m \u001B[38;5;28mprint\u001B[39m(tokenizer\u001B[38;5;241m.\u001B[39mdecode(\u001B[43mmodel\u001B[49m\u001B[38;5;241;43m.\u001B[39;49m\u001B[43mgenerate\u001B[49m\u001B[43m(\u001B[49m\u001B[43mmodel_input\u001B[49m\u001B[43m,\u001B[49m\u001B[43m \u001B[49m\u001B[43mmax_length\u001B[49m\u001B[38;5;241;43m=\u001B[39;49m\u001B[38;5;241;43m50\u001B[39;49m\u001B[43m,\u001B[49m\u001B[43m \u001B[49m\u001B[43mdo_sample\u001B[49m\u001B[38;5;241;43m=\u001B[39;49m\u001B[38;5;28;43;01mTrue\u001B[39;49;00m\u001B[43m,\u001B[49m\u001B[43m \u001B[49m\u001B[43mpad_token_id\u001B[49m\u001B[38;5;241;43m=\u001B[39;49m\u001B[43mtokenizer\u001B[49m\u001B[38;5;241;43m.\u001B[39;49m\u001B[43meos_token_id\u001B[49m\u001B[43m)\u001B[49m[\u001B[38;5;241m0\u001B[39m]))\n",
      "File \u001B[0;32m/opt/miniconda3/envs/helmholtz/lib/python3.10/site-packages/torch/utils/_contextlib.py:115\u001B[0m, in \u001B[0;36mcontext_decorator.<locals>.decorate_context\u001B[0;34m(*args, **kwargs)\u001B[0m\n\u001B[1;32m    112\u001B[0m \u001B[38;5;129m@functools\u001B[39m\u001B[38;5;241m.\u001B[39mwraps(func)\n\u001B[1;32m    113\u001B[0m \u001B[38;5;28;01mdef\u001B[39;00m \u001B[38;5;21mdecorate_context\u001B[39m(\u001B[38;5;241m*\u001B[39margs, \u001B[38;5;241m*\u001B[39m\u001B[38;5;241m*\u001B[39mkwargs):\n\u001B[1;32m    114\u001B[0m     \u001B[38;5;28;01mwith\u001B[39;00m ctx_factory():\n\u001B[0;32m--> 115\u001B[0m         \u001B[38;5;28;01mreturn\u001B[39;00m \u001B[43mfunc\u001B[49m\u001B[43m(\u001B[49m\u001B[38;5;241;43m*\u001B[39;49m\u001B[43margs\u001B[49m\u001B[43m,\u001B[49m\u001B[43m \u001B[49m\u001B[38;5;241;43m*\u001B[39;49m\u001B[38;5;241;43m*\u001B[39;49m\u001B[43mkwargs\u001B[49m\u001B[43m)\u001B[49m\n",
      "File \u001B[0;32m/opt/miniconda3/envs/helmholtz/lib/python3.10/site-packages/transformers/generation/utils.py:1825\u001B[0m, in \u001B[0;36mGenerationMixin.generate\u001B[0;34m(self, inputs, generation_config, logits_processor, stopping_criteria, prefix_allowed_tokens_fn, synced_gpus, assistant_model, streamer, negative_prompt_ids, negative_prompt_attention_mask, **kwargs)\u001B[0m\n\u001B[1;32m   1821\u001B[0m \u001B[38;5;66;03m# 3. Define model inputs\u001B[39;00m\n\u001B[1;32m   1822\u001B[0m inputs_tensor, model_input_name, model_kwargs \u001B[38;5;241m=\u001B[39m \u001B[38;5;28mself\u001B[39m\u001B[38;5;241m.\u001B[39m_prepare_model_inputs(\n\u001B[1;32m   1823\u001B[0m     inputs, generation_config\u001B[38;5;241m.\u001B[39mbos_token_id, model_kwargs\n\u001B[1;32m   1824\u001B[0m )\n\u001B[0;32m-> 1825\u001B[0m batch_size \u001B[38;5;241m=\u001B[39m \u001B[43minputs_tensor\u001B[49m\u001B[38;5;241;43m.\u001B[39;49m\u001B[43mshape\u001B[49m[\u001B[38;5;241m0\u001B[39m]\n\u001B[1;32m   1827\u001B[0m device \u001B[38;5;241m=\u001B[39m inputs_tensor\u001B[38;5;241m.\u001B[39mdevice\n\u001B[1;32m   1828\u001B[0m \u001B[38;5;28mself\u001B[39m\u001B[38;5;241m.\u001B[39m_prepare_special_tokens(generation_config, kwargs_has_attention_mask, device\u001B[38;5;241m=\u001B[39mdevice)\n",
      "File \u001B[0;32m/opt/miniconda3/envs/helmholtz/lib/python3.10/site-packages/transformers/tokenization_utils_base.py:285\u001B[0m, in \u001B[0;36mBatchEncoding.__getattr__\u001B[0;34m(self, item)\u001B[0m\n\u001B[1;32m    283\u001B[0m     \u001B[38;5;28;01mreturn\u001B[39;00m \u001B[38;5;28mself\u001B[39m\u001B[38;5;241m.\u001B[39mdata[item]\n\u001B[1;32m    284\u001B[0m \u001B[38;5;28;01mexcept\u001B[39;00m \u001B[38;5;167;01mKeyError\u001B[39;00m:\n\u001B[0;32m--> 285\u001B[0m     \u001B[38;5;28;01mraise\u001B[39;00m \u001B[38;5;167;01mAttributeError\u001B[39;00m\n",
      "\u001B[0;31mAttributeError\u001B[0m: "
     ]
    }
   ],
   "execution_count": 166
  },
  {
   "cell_type": "code",
   "execution_count": null,
   "metadata": {},
   "outputs": [],
   "source": []
  }
 ],
 "metadata": {
  "kernelspec": {
   "display_name": "helmholtz",
   "language": "python",
   "name": "python3"
  },
  "language_info": {
   "codemirror_mode": {
    "name": "ipython",
    "version": 3
   },
   "file_extension": ".py",
   "mimetype": "text/x-python",
   "name": "python",
   "nbconvert_exporter": "python",
   "pygments_lexer": "ipython3",
   "version": "3.10.15"
  }
 },
 "nbformat": 4,
 "nbformat_minor": 2
}
