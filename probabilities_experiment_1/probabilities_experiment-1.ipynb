{
 "cells": [
  {
   "cell_type": "markdown",
   "id": "23a879f7",
   "metadata": {},
   "source": [
    "# Experiment 1\n",
    "### Idea: Plot all the probabilities of the token from the true sentence and false sentence of the intersection of the heads that appear in both sentences"
   ]
  },
  {
   "cell_type": "code",
   "execution_count": null,
   "id": "64c5b4b9-4d92-43e0-8eb8-56d390e4b527",
   "metadata": {},
   "outputs": [],
   "source": [
    "import torch \n",
    "import seaborn as sns\n",
    "from circuitsvis.attention import attention_heads, attention_patterns\n",
    "import matplotlib.pyplot as plt\n",
    "from transformers import AutoModelForCausalLM, AutoTokenizer\n",
    "import pandas as pd\n",
    "import os\n",
    "import time\n",
    "import gc\n",
    "import json "
   ]
  },
  {
   "cell_type": "code",
   "execution_count": null,
   "id": "e6cfde61",
   "metadata": {},
   "outputs": [],
   "source": [
    "# Global settings\n",
    "torch.set_grad_enabled(False) #to disable gradients -> faster computiations\n",
    "torch.set_printoptions(sci_mode=False)\n",
    "# Ensure GPU acceleration is enabled on Mac\n",
    "device = torch.device(\"mps\") if torch.backends.mps.is_available() else torch.device(\"cpu\")\n",
    "mod = None\n",
    "tokenizer = None\n",
    "META_LLAMA_3_2_3B = \"meta-llama/Llama-3.2-3B\"\n",
    "GOOGLE_GEMMA_2_2B = \"google/gemma-2-2b\"\n",
    "dataset = {}\n",
    "CSV_PATH_DATASET = \"../dataset/examples.csv\""
   ]
  },
  {
   "cell_type": "code",
   "execution_count": null,
   "id": "ce387c4a",
   "metadata": {},
   "outputs": [],
   "source": [
    "models = [META_LLAMA_3_2_3B] "
   ]
  },
  {
   "cell_type": "markdown",
   "id": "202a4862",
   "metadata": {},
   "source": [
    "### Functions"
   ]
  },
  {
   "cell_type": "code",
   "execution_count": null,
   "id": "5f81b639",
   "metadata": {},
   "outputs": [],
   "source": [
    "def initialize_model(model_name: str, tokenizer_name: str = None):\n",
    "    if not tokenizer_name:\n",
    "        tokenizer_name = model_name\n",
    "    # Initialize model and tokenizer\n",
    "    global model\n",
    "    model = AutoModelForCausalLM.from_pretrained(model_name, device_map=\"auto\", torch_dtype=torch.bfloat16)\n",
    "    if not tokenizer_name:\n",
    "        tokenizer_name = model_name\n",
    "    global tokenizer\n",
    "    tokenizer = AutoTokenizer.from_pretrained(tokenizer_name)\n"
   ]
  },
  {
   "cell_type": "code",
   "execution_count": null,
   "id": "3250539a",
   "metadata": {},
   "outputs": [],
   "source": [
    "def load_dataset(path_to_csv: str):\n",
    "    # Check if the file at the given path exists\n",
    "    if os.path.exists(path_to_csv):\n",
    "        df = pd.read_csv(path_to_csv)\n",
    "    else:\n",
    "        print(\"File does not exist.\")\n",
    "        exit(1)\n",
    "\n",
    "    global dataset \n",
    "    dataset = df\n",
    "    \n",
    "    # Create a new column \"token_probability\" for saving up the probabilites of the studied token for all prompts. Initially, 0.\n",
    "    dataset[\"token_probability_true_sentence\"] = 0\n",
    "    dataset[\"token_probability_false_sentence\"] = 0"
   ]
  },
  {
   "cell_type": "code",
   "execution_count": null,
   "id": "ddc14479",
   "metadata": {},
   "outputs": [],
   "source": [
    "def print_colored_separator(color=\"\\033[94m\", char=\"=\", length=150, prints_enabled: bool = False):\n",
    "    if prints_enabled:\n",
    "        reset = \"\\033[0m\"  # Reset color\n",
    "        print(f\"{color}{char * length}{reset}\")"
   ]
  },
  {
   "cell_type": "code",
   "execution_count": null,
   "id": "b66827c2",
   "metadata": {},
   "outputs": [],
   "source": [
    "# Returns the model's output after feeding it with a prompt concatenated prompt_repetitions times and the concatenated prompt tensor\n",
    "def feed_forward(true_sentence: str, false_sentence: str, prompt_repetitions: int = 1, prints_enabled: bool = False):\n",
    "    print_colored_separator(prints_enabled)\n",
    "    # Before proceeding, check that the true_sentence and false_sentence contain the same amount of tokens after tokenizing them. \n",
    "    # Important!: BOS token is usually not included for counting the tokens of a sentence, when indexing .shape[...]\n",
    "    true_sentence_token_n = tokenizer(true_sentence, return_tensors=\"pt\")[\"input_ids\"][0].shape[0]\n",
    "    false_sentence_token_n = tokenizer(false_sentence, return_tensors=\"pt\")[\"input_ids\"][0].shape[0]\n",
    "    if true_sentence_token_n != false_sentence_token_n:\n",
    "        return None, None, None\n",
    "    \n",
    "    # Extract all the words except the last one, split by space.  \n",
    "    sentence_without_last_token = \"\".join(true_sentence.rsplit(\" \", 1)[:-1])\n",
    "    # Append the sentence without the last token to the prompt, starting with the true_sentence. This is one-shot learning.\n",
    "    # Add space token to avoid that the point token \".\" gets tokenized together with the beginning of the next sentence.\n",
    "    prompt = true_sentence + \"\\n\" + false_sentence + \"\\n\" + sentence_without_last_token\n",
    "    token_sequence = tokenizer(prompt, return_tensors=\"pt\")\n",
    "    # print(f\"prompt: {prompt}\\ntoken_sequence: {token_sequence}\\nNumber of tokens: {len(token_sequence['input_ids'][0])}\")\n",
    "    tokens = token_sequence[\"input_ids\"][0]\n",
    "    \n",
    "    # Feed forward to the model\n",
    "    global model\n",
    "    out = model(tokens.unsqueeze(0).to(model.device), return_dict=True, output_attentions=True)\n",
    "    # Return the output of the model, the tokenized prompt, number of tokens from the sentences (both sentences should have the same amount of tokens at this point)\n",
    "    return out, tokens, true_sentence_token_n"
   ]
  },
  {
   "cell_type": "code",
   "execution_count": null,
   "id": "8df7ecc7",
   "metadata": {},
   "outputs": [],
   "source": [
    "import numpy as np\n",
    "import plotly.graph_objects as go\n",
    "\n",
    "def plot_induction_mask_with_plotly(induction_mask, induction_mask_text, prompt):\n",
    "    # Create a Heatmap with the numeric mask (z) and attach the text\n",
    "    heatmap = go.Heatmap(\n",
    "        z=induction_mask,\n",
    "        text=induction_mask_text, \n",
    "        hoverinfo='text',  # Only show the text on hover\n",
    "        colorscale='Blues',  # Choose any Plotly colorscale you like\n",
    "        showscale=True\n",
    "    )\n",
    "\n",
    "    fig = go.Figure(data=[heatmap])\n",
    "\n",
    "    # Make the squares actually square by linking x/y scales\n",
    "    fig.update_layout(\n",
    "        xaxis=dict(scaleanchor=\"y\", scaleratio=1),\n",
    "        yaxis=dict(autorange=\"reversed\"),  # Reverse y-axis so row 0 is at top\n",
    "        title=f\"Induction Mask for prompt: {prompt}\\n\"\n",
    "    )\n",
    "\n",
    "    fig.show()"
   ]
  },
  {
   "cell_type": "code",
   "execution_count": null,
   "id": "645dcb00",
   "metadata": {},
   "outputs": [],
   "source": [
    "def create_attention_mask(token_sequence: torch.Tensor, token_number_sentence: int, show_induction_mask: bool = False, prints_enabled: bool = False):\n",
    "    print_colored_separator(prints_enabled)\n",
    "    sequence_length = token_sequence.shape[0]\n",
    "    induction_mask = torch.zeros(sequence_length, sequence_length).to(float)\n",
    "    induction_mask_text = np.full((sequence_length, sequence_length), \"\", dtype=object)\n",
    "\n",
    "    # Start at the beginning of the second sentence (+1 since BOS token was not counted). \n",
    "    for i in range(token_number_sentence + 1, sequence_length):\n",
    "        if token_sequence[i] not in token_sequence[:i]:\n",
    "            continue\n",
    "        for j in range(i):\n",
    "            if token_sequence[i] == token_sequence[j]:\n",
    "                induction_mask[i, j + 1] = 1 \n",
    "                # Encode to show raw strings (show e.g. new lines tokens)\n",
    "                induction_mask_text[i, j + 1] = tokenizer.decode(token_sequence[i]).encode('unicode_escape').decode('utf-8') + \"/\" + tokenizer.decode(token_sequence[j + 1]).encode('unicode_escape').decode('utf-8')\n",
    "    \n",
    "    if show_induction_mask:\n",
    "        # print(\"Induction Mask:\\n\")\n",
    "        # print(induction_mask)\n",
    "        # print()\n",
    "        # print(\"Induction Mask plot:\\n\")\n",
    "        # plt.imshow(induction_mask)\n",
    "        # plt.show()\n",
    "        plot_induction_mask_with_plotly(induction_mask, induction_mask_text, prompt=tokenizer.decode(token_sequence))\n",
    "        return induction_mask"
   ]
  },
  {
   "cell_type": "code",
   "execution_count": null,
   "id": "ffbdedb0",
   "metadata": {},
   "outputs": [],
   "source": [
    "def compute_induction_head_scores(token_sequence: torch.Tensor, induction_mask: torch.Tensor, model_output):\n",
    "    num_heads = model.config.num_attention_heads\n",
    "    num_layers = model.config.num_hidden_layers\n",
    "    sequence_length = token_sequence.shape[0]\n",
    "\n",
    "    induction_scores = torch.zeros(num_layers, num_heads)\n",
    "    #TODO: Does it make sense to remove the first row and first column? corresponding to the BOS token\n",
    "    tril = torch.tril_indices(sequence_length, sequence_length) # gets the indices of elements on and below the diagonal\n",
    "    induction_flat = induction_mask[tril[0], tril[1]].flatten()\n",
    "    \n",
    "    for layer in range(num_layers):\n",
    "        for head in range(num_heads):\n",
    "            pattern = model_output[\"attentions\"][layer][0][head].cpu().to(float)\n",
    "            pattern_flat = pattern[tril[0], tril[1]].flatten()\n",
    "            score = (induction_flat @ pattern_flat) / pattern_flat.sum()\n",
    "            induction_scores[layer, head] = score\n",
    "    return induction_scores"
   ]
  },
  {
   "cell_type": "code",
   "execution_count": null,
   "id": "f76d6c80",
   "metadata": {},
   "outputs": [],
   "source": [
    "def create_heatmap(induction_scores: torch.Tensor):\n",
    "    print_colored_separator()\n",
    "    _, ax = plt.subplots()\n",
    "    print(\"Heatmap of induction scores across heads and layers: \\n\")\n",
    "    sns.heatmap(induction_scores, cbar_kws={\"label\": \"Induction Head Score\"}, ax=ax)\n",
    "    ax.set_ylabel(\"Layer #\")\n",
    "    ax.set_xlabel(\"Head #\")\n",
    "    plt.show()"
   ]
  },
  {
   "cell_type": "code",
   "execution_count": null,
   "id": "06e9893a",
   "metadata": {},
   "outputs": [],
   "source": [
    "def sort_filter_high_scoring_induction_heads(induction_scores: torch.Tensor, model_output: any, filter_by_threshold: float = 0.5, show_induction_heads: bool = False, prints_enabled: bool = False): \n",
    "    print_colored_separator(prints_enabled)\n",
    "    \n",
    "    # Filter induction scores by threshold\n",
    "    mask = induction_scores >= filter_by_threshold\n",
    "\n",
    "    filtered_scores = torch.where(mask, induction_scores, torch.tensor(float('-inf')))\n",
    "\n",
    "    # Get flattened indices sorted by scores in descending order\n",
    "    sorted_flat_indices = torch.argsort(filtered_scores.flatten(), descending=True)\n",
    "\n",
    "    valid_indices = sorted_flat_indices[filtered_scores.flatten()[sorted_flat_indices] != float('-inf')]\n",
    "\n",
    "    # Convert flattened indices to 2D indices\n",
    "    sorted_indices = torch.unravel_index(valid_indices, induction_scores.shape)\n",
    "\n",
    "    # Stack the row and column indices for final output\n",
    "    sorted_indices = torch.stack(sorted_indices, dim=1)\n",
    "\n",
    "    if show_induction_heads:\n",
    "        print(\"Top 5 Induction Heads with the highest induction score - Descending order\\n\")\n",
    "        for layer, head in sorted_indices[:5]:\n",
    "            induction_score = induction_scores[layer][head]\n",
    "            print(f\"Layer: {layer}\\nHead: {head}\\nInduction Score: {induction_score}\")\n",
    "            plt.imshow(model_output[\"attentions\"][layer][0][head].cpu().float())\n",
    "            plt.show()\n",
    "            print()\n",
    "    return sorted_indices"
   ]
  },
  {
   "cell_type": "code",
   "execution_count": null,
   "id": "f383db80",
   "metadata": {},
   "outputs": [],
   "source": [
    "def token_probability_extraction(head_indices: torch.Tensor, models_output: any, token_number_sentence: int, prints_enabled: bool = False):\n",
    "    result_true_sentence = {}\n",
    "    result_false_sentence = {}\n",
    "    for idx in head_indices:\n",
    "        print_colored_separator(prints_enabled)\n",
    "        layer, head = idx\n",
    "        probs = models_output[\"attentions\"][layer][0][head]\n",
    "\n",
    "        # Extract probability of the specified token\n",
    "        sequence_length = probs.shape[0]\n",
    "        # First index is y-axis, second is x-axis from the source destination diagram.\n",
    "        # sequence_length - 1 because we want to index the last token of a sequence. \n",
    "        # token_number_sentence - 1 because we skip the newline at the end of each sentence. \n",
    "        probability_token_true_sentence = probs[sequence_length - 1, token_number_sentence - 1].item() \n",
    "        probability_token_false_sentence = probs[sequence_length - 1, 2 * token_number_sentence - 1].item() \n",
    "\n",
    "        # Results for token from true_sentence and false_sentence at current layer and head\n",
    "        result_true_sentence[f\"L{layer}_H{head}\"] = probability_token_true_sentence \n",
    "        result_false_sentence[f\"L{layer}_H{head}\"] = probability_token_false_sentence\n",
    "    return json.dumps(result_true_sentence), json.dumps(result_false_sentence)\n"
   ]
  },
  {
   "cell_type": "code",
   "execution_count": null,
   "id": "61f17ebc",
   "metadata": {},
   "outputs": [],
   "source": [
    "def save_probability(token_probability: int, example_id: int, column_name_probability: str, prints_enabled: bool = False):\n",
    "    if dataset.empty:\n",
    "        raise Exception(\"Dataset is empty\")\n",
    "    \n",
    "    print_colored_separator(prints_enabled)\n",
    "    # Log the probability of the token into its corresponding row and column in the dataset.\n",
    "    dataset.loc[dataset[\"example_id\"] == example_id, f\"{column_name_probability}\"] = token_probability \n",
    "    if prints_enabled:\n",
    "        print(f\"Saved probability for token from example_id: {example_id}\\n\")"
   ]
  },
  {
   "cell_type": "code",
   "execution_count": null,
   "id": "acd1ef1a",
   "metadata": {},
   "outputs": [],
   "source": [
    "def display_attention_visualizations(head_indices: torch.Tensor, token_sequence: torch.Tensor, models_output):\n",
    "    # Display attention diagrams\n",
    "    tokens_vis = tokenizer.tokenize(tokenizer.decode(token_sequence.squeeze()))\n",
    "    layer, head = head_indices[0]\n",
    "    return attention_patterns(tokens_vis, models_output[\"attentions\"][layer][0]), attention_heads(models_output[\"attentions\"][layer][0], tokens_vis)"
   ]
  },
  {
   "cell_type": "code",
   "execution_count": null,
   "id": "9c0d07b2",
   "metadata": {},
   "outputs": [],
   "source": [
    "def run_experiment(true_sentence: str, false_sentence: str, filter_by_threshold: float = 0.5):\n",
    "    models_output, token_sequence, token_number_sentence = feed_forward(true_sentence=true_sentence, false_sentence=false_sentence)\n",
    "    if token_sequence is None: \n",
    "        # true_sentence and false_sentence have different number of tokens after tokenizing them. \n",
    "        return None, None\n",
    "    print(\"Token Sequence: \", token_sequence)\n",
    "    print(\"Token Sequence number: \", token_sequence.shape[0])\n",
    "    print(\"Token number sentence: \", token_number_sentence)\n",
    "    induction_mask = create_attention_mask(token_sequence=token_sequence, token_number_sentence=token_number_sentence, show_induction_mask=True)\n",
    "    induction_scores = compute_induction_head_scores(token_sequence=token_sequence, induction_mask=induction_mask, model_output=models_output)\n",
    "    create_heatmap(induction_scores=induction_scores)\n",
    "    \n",
    "    # Get induction heads indices after filtering by a threshold and sort them descending from top scoring head\n",
    "    indices_induction_heads = sort_filter_high_scoring_induction_heads(induction_scores=induction_scores, model_output=models_output, filter_by_threshold=filter_by_threshold, show_induction_heads=True)\n",
    "    print(\"Indices of high scoring induction heads - desc: \", indices_induction_heads)\n",
    "\n",
    "    # Extract the probability of the 2 studied tokens for each head and layer. Store it in json format  \n",
    "    token_probability_true_sentence, token_probability_false_sentence = token_probability_extraction(indices_induction_heads, models_output, token_number_sentence)\n",
    "\n",
    "    return token_probability_true_sentence, token_probability_false_sentence \n"
   ]
  },
  {
   "cell_type": "code",
   "execution_count": null,
   "id": "c7e6801f",
   "metadata": {},
   "outputs": [],
   "source": [
    "def save_plot_results(save_path: str):\n",
    "    # Get the list of heads\n",
    "    head_sets_true_sentences = dataset[\"token_probability_true_sentence\"].apply(json.loads)\n",
    "    head_sets_true = head_sets_true_sentences.apply(lambda d: set(d.keys()))\n",
    "\n",
    "    head_sets_false_sentences = dataset[\"token_probability_false_sentence\"].apply(json.loads)\n",
    "    head_sets_false = head_sets_false_sentences.apply(lambda d: set(d.keys()))\n",
    "\n",
    "    # Calculate the intersection\n",
    "    common_heads_true = set.intersection(*head_sets_true)\n",
    "    common_heads_false = set.intersection(*head_sets_false)\n",
    "\n",
    "    # Intersection of the heads which appear in the true && false sentence\n",
    "    total_intersection_set = set.intersection(common_heads_true, common_heads_false)\n",
    "\n",
    "    data = []\n",
    "    for _, row in dataset.iterrows():\n",
    "        for head in total_intersection_set:\n",
    "            data.append({\"Head\": head, \"Probability\": json.loads(row[\"token_probability_true_sentence\"])[head], \"Type\": \"True\"})\n",
    "            data.append({\"Head\": head, \"Probability\": json.loads(row[\"token_probability_false_sentence\"])[head], \"Type\": \"False\"})\n",
    "\n",
    "    plot_df = pd.DataFrame(data=data)\n",
    "    # Ensure \"Type\" column is formatted correctly to avoid duplicate legend entries\n",
    "    plot_df[\"Type\"] = plot_df[\"Type\"].astype(str).str.strip()\n",
    "    plt.figure(figsize=(12, 10))\n",
    "    ax = sns.barplot(data=plot_df, x=\"Head\", y=\"Probability\", hue=\"Type\")\n",
    "    ax.get_figure().savefig(f\"{save_path}-results-plot.png\", dpi=300)\n"
   ]
  },
  {
   "cell_type": "code",
   "execution_count": null,
   "id": "4045f3ca",
   "metadata": {},
   "outputs": [],
   "source": [
    "def save_result_csv(model_name: str, dataset_csv_file_path: str):\n",
    "    global dataset\n",
    "    model_name_folder = model_name.split(\"/\")\n",
    "    folder_path = os.path.dirname(dataset_csv_file_path) + \"/\" + model_name_folder[0] \n",
    "    if not os.path.exists(folder_path):\n",
    "        os.mkdir(folder_path)\n",
    "    model_and_path = f\"{model_name_folder[-1]}-results.csv\"\n",
    "    new_file_path = os.path.join(folder_path, model_and_path)\n",
    "    dataset.to_csv(new_file_path, index=False)\n",
    "\n",
    "    # Save plot for the current dataset \n",
    "    model_and_path_image = os.path.join(folder_path, model_name_folder[-1])\n",
    "    save_plot_results(save_path=model_and_path_image)"
   ]
  },
  {
   "cell_type": "code",
   "execution_count": null,
   "id": "054eec63",
   "metadata": {},
   "outputs": [],
   "source": [
    "def delete_model():\n",
    "    global model\n",
    "    del model\n",
    "    gc.collect()\n",
    "    if torch.backends.mps.is_available():\n",
    "        torch.mps.empty_cache()  # Clear MPS GPU memory\n",
    "    \n"
   ]
  },
  {
   "cell_type": "code",
   "execution_count": null,
   "id": "f39ac44b",
   "metadata": {},
   "outputs": [],
   "source": [
    "# Apply processing and store results\n",
    "def process_row(row, filter_by_threshold):\n",
    "    result_true, result_false = run_experiment(true_sentence=row[\"true_sentence\"], \n",
    "                            false_sentence=row[\"false_sentence\"], \n",
    "                            filter_by_threshold=filter_by_threshold)\n",
    "    # Check if result is None or invalid\n",
    "    if result_true is None:\n",
    "        return pd.Series([pd.NA, pd.NA])  # Mark for removal\n",
    "    return pd.Series([result_true, result_false]) "
   ]
  },
  {
   "cell_type": "code",
   "execution_count": null,
   "id": "95b22b21",
   "metadata": {},
   "outputs": [],
   "source": [
    "def run_experiment_suite(dataset_csv_file_path: str, llm_models: list, prompt_repetitions: int = 1, filter_by_threshold: int = 0.5):\n",
    "    for mod in llm_models: \n",
    "        print(f\"Using device: {torch.device('mps') if torch.backends.mps.is_available() else 'cpu'}\")\n",
    "        initialize_model(model_name=mod, tokenizer_name=mod)\n",
    "        load_dataset(path_to_csv=dataset_csv_file_path)\n",
    "        \n",
    "        # Use apply() in a vectorized manner to pass both columns\n",
    "        global dataset\n",
    "        dataset[[\"token_probability_true_sentence\", \"token_probability_false_sentence\"]] = dataset.apply(\n",
    "            lambda row: process_row(row, filter_by_threshold=filter_by_threshold),\n",
    "            axis=1\n",
    "        )\n",
    "\n",
    "        # Drop rows where `process_row()` returned NaN\n",
    "        dataset.dropna(subset=[\"token_probability_true_sentence\", \"token_probability_false_sentence\"], inplace=True)\n",
    "\n",
    "        # Create CSV result files saved in folders respective to the used LLM.\n",
    "        save_result_csv(model_name=mod, dataset_csv_file_path=dataset_csv_file_path) \n",
    "\n",
    "        # Delete the model loaded in memory\n",
    "        delete_model()\n"
   ]
  },
  {
   "cell_type": "markdown",
   "id": "15ef3f7f",
   "metadata": {},
   "source": [
    "### Experiment Start"
   ]
  },
  {
   "cell_type": "code",
   "execution_count": null,
   "id": "23719aeb",
   "metadata": {},
   "outputs": [],
   "source": [
    "print(\"Your current working directory:\", os.getcwd())\n",
    "start_time = time.perf_counter()\n",
    "run_experiment_suite(dataset_csv_file_path=CSV_PATH_DATASET, llm_models=models, prompt_repetitions=1, filter_by_threshold=0.10)\n",
    "end_time = time.perf_counter()\n",
    "elapsed_time = end_time - start_time\n",
    "print(f\"Execution Time: {elapsed_time:.4f} seconds.\")"
   ]
  }
 ],
 "metadata": {
  "kernelspec": {
   "display_name": "Python 3 (ipykernel)",
   "language": "python",
   "name": "python3"
  },
  "language_info": {
   "codemirror_mode": {
    "name": "ipython",
    "version": 3
   },
   "file_extension": ".py",
   "mimetype": "text/x-python",
   "name": "python",
   "nbconvert_exporter": "python",
   "pygments_lexer": "ipython3",
   "version": "3.10.15"
  }
 },
 "nbformat": 4,
 "nbformat_minor": 5
}
