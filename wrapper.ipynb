{
 "cells": [
  {
   "cell_type": "code",
   "execution_count": 56,
   "id": "64c5b4b9-4d92-43e0-8eb8-56d390e4b527",
   "metadata": {},
   "outputs": [],
   "source": [
    "import torch \n",
    "import torch.nn.functional as F\n",
    "import seaborn as sns\n",
    "from circuitsvis.attention import attention_heads, attention_patterns\n",
    "import matplotlib.pyplot as plt\n",
    "from transformers import AutoModelForCausalLM, AutoTokenizer\n",
    "import pandas as pd\n",
    "import os\n",
    "import time\n",
    "import concurrent.futures\n",
    "from pathlib import Path\n"
   ]
  },
  {
   "cell_type": "code",
   "execution_count": 57,
   "id": "e6cfde61",
   "metadata": {},
   "outputs": [],
   "source": [
    "# Global settings\n",
    "torch.set_grad_enabled(False) #to disable gradients -> faster computiations\n",
    "# Ensure GPU acceleration is enabled on Mac\n",
    "device = torch.device(\"mps\") if torch.backends.mps.is_available() else torch.device(\"cpu\")\n",
    "model = None\n",
    "tokenizer = None\n",
    "META_LLAMA_3_2_3B = \"meta-llama/Llama-3.2-3B\"\n",
    "GOOGLE_GEMMA_2_2B = \"google/gemma-2-2b\"\n",
    "dataset = {}\n",
    "CSV_PATH_DATASET = \"dataset/examples.csv\""
   ]
  },
  {
   "cell_type": "code",
   "execution_count": 58,
   "id": "ce387c4a",
   "metadata": {},
   "outputs": [],
   "source": [
    "models = [META_LLAMA_3_2_3B, GOOGLE_GEMMA_2_2B] "
   ]
  },
  {
   "cell_type": "markdown",
   "id": "202a4862",
   "metadata": {},
   "source": [
    "### Functions"
   ]
  },
  {
   "cell_type": "code",
   "execution_count": 59,
   "id": "5f81b639",
   "metadata": {},
   "outputs": [],
   "source": [
    "def initialize_model(model_name: str, tokenizer_name: str = None):\n",
    "    if not tokenizer_name:\n",
    "        tokenizer_name = model_name\n",
    "    # Initialize model and tokenizer\n",
    "    global model\n",
    "    model = AutoModelForCausalLM.from_pretrained(model_name)\n",
    "    if not tokenizer_name:\n",
    "        tokenizer_name = model_name\n",
    "    global tokenizer\n",
    "    tokenizer = AutoTokenizer.from_pretrained(tokenizer_name)\n"
   ]
  },
  {
   "cell_type": "code",
   "execution_count": 60,
   "id": "3250539a",
   "metadata": {},
   "outputs": [],
   "source": [
    "def load_dataset(path_to_csv: str):\n",
    "    # Check if the file at the given path exists\n",
    "    if os.path.exists(path_to_csv):\n",
    "        df = pd.read_csv(path_to_csv)\n",
    "    else:\n",
    "        print(\"File does not exist.\")\n",
    "        exit(1)\n",
    "\n",
    "    global dataset \n",
    "    dataset = df\n",
    "    \n",
    "    # Create a new column \"token_probability\" for saving up the probabilites of the studied token for all prompts. Initially, 0.\n",
    "    dataset[\"token_probability_true_sentence\"] = 0\n",
    "    dataset[\"token_probability_false_sentence\"] = 0"
   ]
  },
  {
   "cell_type": "code",
   "execution_count": 61,
   "id": "ddc14479",
   "metadata": {},
   "outputs": [],
   "source": [
    "def print_colored_separator(color=\"\\033[94m\", char=\"=\", length=150, prints_enabled: bool = False):\n",
    "    if prints_enabled:\n",
    "        reset = \"\\033[0m\"  # Reset color\n",
    "        print(f\"{color}{char * length}{reset}\")"
   ]
  },
  {
   "cell_type": "code",
   "execution_count": 62,
   "id": "b66827c2",
   "metadata": {},
   "outputs": [],
   "source": [
    "# Returns the model's output after feeding it with a prompt concatenated prompt_repetitions times and the concatenated prompt tensor\n",
    "def feed_forward(prompt: str, prompt_repetitions: int = 1, prints_enabled: bool = False):\n",
    "    print_colored_separator(prints_enabled)\n",
    "    token_sequence = tokenizer(prompt, return_tensors=\"pt\")\n",
    "    tokens = token_sequence[\"input_ids\"][0]\n",
    "    \n",
    "    sentence_to_concatenate = tokens\n",
    "    for _ in range(prompt_repetitions):\n",
    "        sentence_to_concatenate = torch.concat([sentence_to_concatenate, tokens[1:]])\n",
    "\n",
    "    if prints_enabled:\n",
    "        print(f\"Input: {prompt}\\n\")\n",
    "        print(f\"Tokenizer tokens: {tokens}\\n\")\n",
    "        print(\"Concatenated prompt:\")\n",
    "        print(f\"{tokenizer.decode(sentence_to_concatenate)}\\n\")\n",
    "        print(\"Concatenated tokens:\")\n",
    "        print(f\"{sentence_to_concatenate}\\n\")\n",
    "\n",
    "    # Feed forward to the model\n",
    "    global model\n",
    "    out = model(sentence_to_concatenate.unsqueeze(0), return_dict=True, output_attentions=True)\n",
    "    return out, sentence_to_concatenate"
   ]
  },
  {
   "cell_type": "code",
   "execution_count": 63,
   "id": "645dcb00",
   "metadata": {},
   "outputs": [],
   "source": [
    "def create_attention_mask(token_sequence: str, show_induction_mask: bool = False, prints_enabled: bool = False):\n",
    "    print_colored_separator(prints_enabled)\n",
    "    sequence_length = len(token_sequence)\n",
    "    half_of_sequence = sequence_length // 2 - 1\n",
    "    induction_mask = torch.zeros(sequence_length, sequence_length).to(float)\n",
    "\n",
    "    for i in range(sequence_length // 2 + 1, sequence_length):\n",
    "        induction_mask[i, i - half_of_sequence] = 1 \n",
    "    \n",
    "    if show_induction_mask:\n",
    "        print(\"Induction Mask:\\n\")\n",
    "        print(induction_mask)\n",
    "        print()\n",
    "        print(\"Induction Mask plot:\\n\")\n",
    "        plt.imshow(induction_mask)\n",
    "        plt.show()\n",
    "        print()\n",
    "    return induction_mask"
   ]
  },
  {
   "cell_type": "code",
   "execution_count": 64,
   "id": "ffbdedb0",
   "metadata": {},
   "outputs": [],
   "source": [
    "def compute_induction_head_scores(token_sequence: str, induction_mask: torch.Tensor, model_output):\n",
    "    num_heads = model.config.num_attention_heads\n",
    "    num_layers = model.config.num_hidden_layers\n",
    "    sequence_length = len(token_sequence)\n",
    "\n",
    "    induction_scores = torch.zeros(num_layers, num_heads)\n",
    "    tril = torch.tril_indices(sequence_length - 1, sequence_length - 1) # gets the indices of elements on and below the diagonal\n",
    "    induction_flat = induction_mask[tril[0], tril[1]].flatten()\n",
    "    \n",
    "    for layer in range(num_layers):\n",
    "        for head in range(num_heads):\n",
    "            pattern = model_output[\"attentions\"][layer][0][head].cpu().to(float)[1:, 1:]\n",
    "            pattern_flat = pattern[tril[0], tril[1]].flatten()\n",
    "            score = (induction_flat @ pattern_flat) / pattern_flat.sum()\n",
    "            induction_scores[layer, head] = score\n",
    "    return induction_scores"
   ]
  },
  {
   "cell_type": "code",
   "execution_count": 65,
   "id": "f76d6c80",
   "metadata": {},
   "outputs": [],
   "source": [
    "def create_heatmap(induction_scores: torch.Tensor):\n",
    "    print_colored_separator()\n",
    "    _, ax = plt.subplots()\n",
    "    print(\"Heatmap of induction scores across heads and layers: \\n\")\n",
    "    sns.heatmap(induction_scores, cbar_kws={\"label\": \"Induction Head Score\"}, ax=ax)\n",
    "    ax.set_ylabel(\"Layer #\")\n",
    "    ax.set_xlabel(\"Head #\")\n",
    "    plt.show()"
   ]
  },
  {
   "cell_type": "code",
   "execution_count": 66,
   "id": "06e9893a",
   "metadata": {},
   "outputs": [],
   "source": [
    "def sort_high_scoring_heads(induction_scores: torch.Tensor, model_output: any, show_induction_heads: bool = False, prints_enabled: bool = False): \n",
    "    print_colored_separator(prints_enabled)\n",
    "    # Get flattened indices sorted by scores in descending order\n",
    "    sorted_flat_indices = torch.argsort(induction_scores.flatten(), descending=True)\n",
    "\n",
    "    # Convert flattened indices to 2D indices\n",
    "    sorted_indices = torch.unravel_index(sorted_flat_indices, induction_scores.shape)\n",
    "    # Stack the row and column indices for final output\n",
    "    sorted_indices = torch.stack(sorted_indices, dim=1)\n",
    "\n",
    "    if show_induction_heads:\n",
    "        print(\"Top 5 Induction Heads with the highest induction score - Descending order\\n\")\n",
    "        for layer, head in sorted_indices[:5]:\n",
    "            print(f\"Layer: {layer}\\nHead: {head}\")\n",
    "            plt.imshow(model_output[\"attentions\"][layer][0][head].cpu().float())\n",
    "            plt.show()\n",
    "            print()\n",
    "    return sorted_indices"
   ]
  },
  {
   "cell_type": "code",
   "execution_count": 67,
   "id": "f383db80",
   "metadata": {},
   "outputs": [],
   "source": [
    "def token_probability_extraction(head_indices: torch.Tensor, models_output: any, prints_enabled: bool = False):\n",
    "    top_layer, top_head = head_indices[0]\n",
    "    probs = models_output[\"attentions\"][top_layer][0][top_head]\n",
    "\n",
    "    # Extract probability of the specified token\n",
    "    sequence_length = probs.shape[0]\n",
    "    probability_token = probs[sequence_length - 2, sequence_length // 2].item() * 100\n",
    "\n",
    "    if prints_enabled:\n",
    "        print_colored_separator(prints_enabled)\n",
    "        print(\"Probability of token: \", probability_token)\n",
    "    return probability_token\n"
   ]
  },
  {
   "cell_type": "code",
   "execution_count": 68,
   "id": "61f17ebc",
   "metadata": {},
   "outputs": [],
   "source": [
    "def save_probability(token_probability: int, example_id: int, column_name_probability: str, prints_enabled: bool = False):\n",
    "    if dataset.empty:\n",
    "        raise Exception(\"Dataset is empty\")\n",
    "    \n",
    "    print_colored_separator(prints_enabled)\n",
    "    # Log the probability of the token into its corresponding row and column in the dataset.\n",
    "    dataset.loc[dataset[\"example_id\"] == example_id, f\"{column_name_probability}\"] = token_probability \n",
    "    if prints_enabled:\n",
    "        print(f\"Saved probability for token from example_id: {example_id}\\n\")"
   ]
  },
  {
   "cell_type": "code",
   "execution_count": 69,
   "id": "acd1ef1a",
   "metadata": {},
   "outputs": [],
   "source": [
    "def display_attention_visualizations(head_indices: torch.Tensor, token_sequence: torch.Tensor, models_output):\n",
    "    # Display attention diagrams\n",
    "    tokens_vis = tokenizer.tokenize(tokenizer.decode(token_sequence.squeeze()))\n",
    "    layer, head = head_indices[0]\n",
    "    return attention_patterns(tokens_vis, models_output[\"attentions\"][layer][0]), attention_heads(models_output[\"attentions\"][layer][0], tokens_vis)"
   ]
  },
  {
   "cell_type": "code",
   "execution_count": 70,
   "id": "9c0d07b2",
   "metadata": {},
   "outputs": [],
   "source": [
    "def run_experiment(prompt: str, example_id: int, column_name_probability: str, prompt_repetitions: int = 1, show_diagrams: bool = False):\n",
    "    models_output, token_sequence = feed_forward(prompt=prompt, prompt_repetitions=prompt_repetitions)\n",
    "    induction_mask = create_attention_mask(token_sequence=token_sequence)\n",
    "    induction_scores = compute_induction_head_scores(token_sequence=token_sequence, induction_mask=induction_mask, model_output=models_output)\n",
    "    # create_heatmap(induction_scores=induction_scores)\n",
    "    high_scoring_heads_indices_sorted = sort_high_scoring_heads(induction_scores=induction_scores, model_output=models_output)\n",
    "\n",
    "    # Extract the probability of the studied token. \n",
    "    token_probability = token_probability_extraction(high_scoring_heads_indices_sorted, models_output)\n",
    "\n",
    "    # Visualize attention \n",
    "    # if show_diagrams:\n",
    "    #     attention_patterns_view, attention_head_view = display_attention_visualizations(head_indices=high_scoring_heads_indices_sorted, token_sequence=token_sequence, models_output=models_output)\n",
    "    #     return attention_patterns_view, attention_head_view\n",
    "\n",
    "    return token_probability\n"
   ]
  },
  {
   "cell_type": "code",
   "execution_count": 71,
   "id": "d896f8ff",
   "metadata": {},
   "outputs": [],
   "source": [
    "def run_experiment_gpu(prompt, example_id, column_name_probability):\n",
    "    \"\"\"Wrapper function for running inference on Mac GPU\"\"\"\n",
    "    with torch.no_grad():  # Prevents GPU memory issues\n",
    "        return run_experiment(prompt, example_id, column_name_probability)"
   ]
  },
  {
   "cell_type": "code",
   "execution_count": 72,
   "id": "95b22b21",
   "metadata": {},
   "outputs": [],
   "source": [
    "def run_experiment_suite(dataset_csv_file_path: str, llm_models: list):\n",
    "    for model in llm_models: \n",
    "        initialize_model(model_name=model, tokenizer_name=model)\n",
    "        print(f\"Using device: {torch.device('mps') if torch.backends.mps.is_available() else 'cpu'}\")\n",
    "        load_dataset(path_to_csv=dataset_csv_file_path)\n",
    "        # Use ThreadPoolExecutor since multiprocessing won't work well with Metal\n",
    "        with concurrent.futures.ThreadPoolExecutor(max_workers=2) as executor:\n",
    "            future_true = executor.submit(\n",
    "                lambda: dataset.apply(lambda row: run_experiment_gpu(row[\"true_sentence\"], \n",
    "                                                                    row[\"example_id\"], \n",
    "                                                                    \"token_probability_true_sentence\"), axis=1)\n",
    "            )\n",
    "            future_false = executor.submit(\n",
    "                lambda: dataset.apply(lambda row: run_experiment_gpu(row[\"false_sentence\"], \n",
    "                                                                    row[\"example_id\"], \n",
    "                                                                    \"token_probability_false_sentence\"), axis=1)\n",
    "            )\n",
    "\n",
    "            # Collect results\n",
    "            dataset[\"token_probability_true_sentence\"] = future_true.result()\n",
    "            dataset[\"token_probability_false_sentence\"] = future_false.result()\n",
    "\n",
    "        # Create CSV result files saved in folders respective to the used LLM.\n",
    "        model_name_folder = model.split(\"/\")\n",
    "        folder_path = os.path.dirname(dataset_csv_file_path) + \"/\" + model_name_folder[0] \n",
    "        if not os.path.exists(folder_path):\n",
    "            os.mkdir(folder_path)\n",
    "        model_and_path = f\"{model_name_folder[-1]}-results.csv\"\n",
    "        new_file_path = os.path.join(folder_path, model_and_path)\n",
    "        dataset.to_csv(new_file_path, index=False)"
   ]
  },
  {
   "cell_type": "code",
   "execution_count": null,
   "id": "d6a2907c",
   "metadata": {},
   "outputs": [],
   "source": []
  },
  {
   "cell_type": "markdown",
   "id": "15ef3f7f",
   "metadata": {},
   "source": [
    "### Experiment Start"
   ]
  },
  {
   "cell_type": "code",
   "execution_count": 73,
   "id": "23719aeb",
   "metadata": {},
   "outputs": [
    {
     "name": "stdout",
     "output_type": "stream",
     "text": [
      "Your current working directory: /Users/ivannaranjo/Documents/Helmholtz/experiments/hlmz-prep\n"
     ]
    },
    {
     "data": {
      "application/vnd.jupyter.widget-view+json": {
       "model_id": "8cbfd8171d3f465baec3993e43974c7e",
       "version_major": 2,
       "version_minor": 0
      },
      "text/plain": [
       "Loading checkpoint shards:   0%|          | 0/2 [00:00<?, ?it/s]"
      ]
     },
     "metadata": {},
     "output_type": "display_data"
    },
    {
     "name": "stdout",
     "output_type": "stream",
     "text": [
      "Using device: mps\n"
     ]
    },
    {
     "data": {
      "application/vnd.jupyter.widget-view+json": {
       "model_id": "51fe85071ae042008027ce8ce8556306",
       "version_major": 2,
       "version_minor": 0
      },
      "text/plain": [
       "Loading checkpoint shards:   0%|          | 0/3 [00:00<?, ?it/s]"
      ]
     },
     "metadata": {},
     "output_type": "display_data"
    },
    {
     "name": "stdout",
     "output_type": "stream",
     "text": [
      "Using device: mps\n",
      "Execution Time: 451.9181 seconds.\n"
     ]
    }
   ],
   "source": [
    "print(\"Your current working directory:\", os.getcwd())\n",
    "start_time = time.perf_counter()\n",
    "run_experiment_suite(dataset_csv_file_path=CSV_PATH_DATASET, llm_models=models)\n",
    "end_time = time.perf_counter()\n",
    "elapsed_time = end_time - start_time\n",
    "print(f\"Execution Time: {elapsed_time:.4f} seconds.\")"
   ]
  },
  {
   "cell_type": "code",
   "execution_count": 74,
   "id": "1403ee83",
   "metadata": {},
   "outputs": [],
   "source": [
    "# attention_patterns_view, attention_heads_view = run_experiment(prompt=\"The planet earth is round\", prompt_repetitions=1)\n",
    "# attention_patterns_view\n",
    "# attention_heads_view"
   ]
  }
 ],
 "metadata": {
  "kernelspec": {
   "display_name": "Python 3 (ipykernel)",
   "language": "python",
   "name": "python3"
  },
  "language_info": {
   "codemirror_mode": {
    "name": "ipython",
    "version": 3
   },
   "file_extension": ".py",
   "mimetype": "text/x-python",
   "name": "python",
   "nbconvert_exporter": "python",
   "pygments_lexer": "ipython3",
   "version": "3.10.15"
  }
 },
 "nbformat": 4,
 "nbformat_minor": 5
}
